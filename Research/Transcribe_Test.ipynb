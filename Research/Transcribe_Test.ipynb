{
 "cells": [
  {
   "cell_type": "code",
   "execution_count": 1,
   "metadata": {},
   "outputs": [],
   "source": [
    "import whisper"
   ]
  },
  {
   "cell_type": "code",
   "execution_count": 6,
   "metadata": {},
   "outputs": [
    {
     "name": "stdout",
     "output_type": "stream",
     "text": [
      "<Popen: returncode: None args: ['ffmpeg', '-i', 'https://www.youtube.com/wat...>\n",
      "Breaking\n"
     ]
    }
   ],
   "source": [
    "import subprocess\n",
    "from pydub import AudioSegment\n",
    "from io import BytesIO\n",
    "\n",
    "# Command to capture livestream audio as WAV\n",
    "command = [\n",
    "    \"ffmpeg\", \"-i\", \"https://www.youtube.com/watch?v=YDfiTGGPYCk&ab_channel=LiveNOWfromFOX\",\n",
    "    \"-f\", \"wav\", \"pipe:1\"\n",
    "]\n",
    "\n",
    "# Run the command and capture audio in chunks\n",
    "process = subprocess.Popen(command, stdout=subprocess.PIPE, stderr=subprocess.DEVNULL)\n",
    "print(process)\n",
    "\n",
    "# Process Whisper on each audio chunk\n",
    "while True:\n",
    "    audio_data = process.stdout.read(1024 * 16)  # Read 16KB at a time\n",
    "    if not audio_data:\n",
    "        print(\"Breaking\")\n",
    "        break\n",
    "\n",
    "    audio_segment = AudioSegment.from_file(BytesIO(audio_data), format=\"wav\")\n",
    "\n",
    "    # Save to file (optional) or process with Whisper\n",
    "    audio_segment.export(\"live_chunk.wav\", format=\"wav\")\n",
    "\n",
    "    # Run Whisper\n",
    "    subprocess.run([\"./main\", \"-m\", \"models/ggml-base.en.bin\", \"-f\", \"live_chunk.wav\"])\n"
   ]
  }
 ],
 "metadata": {
  "kernelspec": {
   "display_name": "Python 3",
   "language": "python",
   "name": "python3"
  },
  "language_info": {
   "codemirror_mode": {
    "name": "ipython",
    "version": 3
   },
   "file_extension": ".py",
   "mimetype": "text/x-python",
   "name": "python",
   "nbconvert_exporter": "python",
   "pygments_lexer": "ipython3",
   "version": "3.10.11"
  }
 },
 "nbformat": 4,
 "nbformat_minor": 2
}
